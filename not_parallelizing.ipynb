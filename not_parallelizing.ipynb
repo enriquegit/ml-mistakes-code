{
 "cells": [
  {
   "cell_type": "code",
   "execution_count": null,
   "id": "c03bb660-15f8-4fda-9a57-059fb2acf4eb",
   "metadata": {},
   "outputs": [],
   "source": [
    "from sklearn.datasets import fetch_california_housing\n",
    "from sklearn.model_selection import train_test_split\n",
    "from sklearn.ensemble import RandomForestRegressor\n",
    "from sklearn.metrics import mean_absolute_error\n",
    "import time\n",
    "\n",
    "df = fetch_california_housing()\n",
    "\n",
    "X_train, X_test, y_train, y_test = train_test_split(df.data,\n",
    "                                                    df.target,\n",
    "                                                    test_size = 0.2,\n",
    "                                                    random_state = 123)"
   ]
  },
  {
   "cell_type": "markdown",
   "id": "7b73707f-c69a-40a0-932f-ee2b3c35f765",
   "metadata": {},
   "source": [
    "### Not parallelizing"
   ]
  },
  {
   "cell_type": "code",
   "execution_count": null,
   "id": "13bc2080-1bb9-4f7c-af1e-da90bc0dd91f",
   "metadata": {},
   "outputs": [],
   "source": [
    "rf = RandomForestRegressor(random_state = 123)\n",
    "\n",
    "start = time.time()\n",
    "rf.fit(X_train, y_train)\n",
    "y_pred = rf.predict(X_test)\n",
    "end = time.time()\n",
    "\n",
    "print(f\"MAE={mean_absolute_error(y_test, y_pred):.3f}\" f\" time (seconds) {end-start:.2f}\")"
   ]
  },
  {
   "cell_type": "markdown",
   "id": "52569072-5366-4b14-85ad-28cdb4461686",
   "metadata": {},
   "source": [
    "### With parallelization"
   ]
  },
  {
   "cell_type": "code",
   "execution_count": null,
   "id": "f97fb0bd-6335-4d53-809d-1ca5b74e3ddb",
   "metadata": {},
   "outputs": [],
   "source": [
    "rf = RandomForestRegressor(random_state = 123, n_jobs = 15)\n",
    "\n",
    "start = time.time()\n",
    "rf.fit(X_train, y_train)\n",
    "y_pred = rf.predict(X_test)\n",
    "end = time.time()\n",
    "\n",
    "print(f\"MAE={mean_absolute_error(y_test, y_pred):.3f}\" f\" time (seconds) {end-start:.2f}\")"
   ]
  },
  {
   "cell_type": "code",
   "execution_count": null,
   "id": "9e062551-0603-4fe8-a12f-2349420be809",
   "metadata": {},
   "outputs": [],
   "source": []
  }
 ],
 "metadata": {
  "kernelspec": {
   "display_name": "Python 3 (ipykernel)",
   "language": "python",
   "name": "python3"
  },
  "language_info": {
   "codemirror_mode": {
    "name": "ipython",
    "version": 3
   },
   "file_extension": ".py",
   "mimetype": "text/x-python",
   "name": "python",
   "nbconvert_exporter": "python",
   "pygments_lexer": "ipython3",
   "version": "3.12.7"
  }
 },
 "nbformat": 4,
 "nbformat_minor": 5
}
