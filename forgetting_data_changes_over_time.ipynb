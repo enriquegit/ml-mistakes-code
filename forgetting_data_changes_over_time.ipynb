{
 "cells": [
  {
   "cell_type": "code",
   "execution_count": null,
   "id": "21c3b42b-abf4-4427-9a46-7413f0bf1138",
   "metadata": {},
   "outputs": [],
   "source": [
    "import numpy as np\n",
    "from scipy.stats import wasserstein_distance"
   ]
  },
  {
   "cell_type": "code",
   "execution_count": null,
   "id": "3a8f78ac-dedb-4b12-a6e3-f0455a2a83e2",
   "metadata": {},
   "outputs": [],
   "source": [
    "# Set random seed for reproducibility\n",
    "np.random.seed(123)\n",
    "\n",
    "# Generate example data.\n",
    "reference_data = np.random.normal(loc=0, scale=1, size=1000)\n",
    "new_data = np.random.normal(loc=1.5, scale=1, size=1000)"
   ]
  },
  {
   "cell_type": "code",
   "execution_count": null,
   "id": "1d5e1379-3367-4cfd-8158-cc1495a93b24",
   "metadata": {
    "scrolled": true
   },
   "outputs": [],
   "source": [
    "# Code to plot the distributions.\n",
    "\n",
    "import matplotlib.pyplot as plt\n",
    "from scipy.stats import gaussian_kde\n",
    "\n",
    "# Estimate PDF.\n",
    "ref_kde = gaussian_kde(reference_data)\n",
    "new_kde = gaussian_kde(new_data)\n",
    "\n",
    "x_vals = np.linspace(min(reference_data.min(), new_data.min()) - 1,\n",
    "                     max(reference_data.max(), new_data.max()) + 1, 500)\n",
    "\n",
    "fig, axes = plt.subplots(2, 1, figsize=(8, 8), sharex=True)\n",
    "\n",
    "# Reference data\n",
    "axes[0].plot(x_vals, ref_kde(x_vals), color=\"steelblue\", linewidth=2)\n",
    "axes[0].set_title(\"Reference Data\")\n",
    "axes[0].set_ylabel(\"Density\")\n",
    "axes[0].grid(True, linestyle=\"--\", alpha=0.6)\n",
    "\n",
    "# New data\n",
    "axes[1].plot(x_vals, new_kde(x_vals), color=\"darkorange\", linewidth=2)\n",
    "axes[1].set_title(\"New Data\")\n",
    "axes[1].set_xlabel(\"Value\")\n",
    "axes[1].set_ylabel(\"Density\")\n",
    "axes[1].grid(True, linestyle=\"--\", alpha=0.6)\n",
    "\n",
    "plt.suptitle(\"Comparison of Reference vs New Data (distribution)\", fontsize=14)\n",
    "\n",
    "plt.savefig(\"data-drift-comparison.png\", dpi=300, bbox_inches=\"tight\")\n",
    "\n",
    "plt.show()\n"
   ]
  },
  {
   "cell_type": "code",
   "execution_count": null,
   "id": "0114c9e6-2649-4bfe-b7c5-7dc2ed1c59a3",
   "metadata": {},
   "outputs": [],
   "source": [
    "# Calculate Wasserstein Distance.\n",
    "distance = wasserstein_distance(reference_data, new_data)\n",
    "print(f\"Wasserstein Distance: {distance:.4f}\")"
   ]
  },
  {
   "cell_type": "code",
   "execution_count": null,
   "id": "95923f30-ef9c-4e75-bd81-8c546c0fae8a",
   "metadata": {},
   "outputs": [],
   "source": []
  }
 ],
 "metadata": {
  "kernelspec": {
   "display_name": "Python [conda env:base] *",
   "language": "python",
   "name": "conda-base-py"
  },
  "language_info": {
   "codemirror_mode": {
    "name": "ipython",
    "version": 3
   },
   "file_extension": ".py",
   "mimetype": "text/x-python",
   "name": "python",
   "nbconvert_exporter": "python",
   "pygments_lexer": "ipython3",
   "version": "3.12.7"
  }
 },
 "nbformat": 4,
 "nbformat_minor": 5
}
