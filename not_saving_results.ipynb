{
 "cells": [
  {
   "cell_type": "code",
   "execution_count": null,
   "id": "efa4494e-a223-45ff-8675-c6521ab4781d",
   "metadata": {},
   "outputs": [],
   "source": [
    "from sklearn.tree import DecisionTreeClassifier\n",
    "from sklearn.model_selection import train_test_split\n",
    "from sklearn.metrics import accuracy_score\n",
    "from sklearn.datasets import load_wine\n",
    "\n",
    "# Load the wine dataset.\n",
    "data = load_wine()\n",
    "\n",
    "# Divide into train and test sets.\n",
    "X_train, X_test, y_train, y_test = train_test_split(data.data,\n",
    "                                                    data.target,\n",
    "                                                    test_size = 0.5,\n",
    "                                                    random_state = 123)\n",
    "\n",
    "tree = DecisionTreeClassifier(random_state = 123)\n",
    "tree.fit(X_train, y_train)"
   ]
  },
  {
   "cell_type": "code",
   "execution_count": null,
   "id": "0aa99d28-85fd-44eb-afcd-d8d93068cbef",
   "metadata": {},
   "outputs": [],
   "source": [
    "import pickle\n",
    "# Save the model to hard drive.\n",
    "pickle.dump(tree, open('tree.pickle', 'wb'))"
   ]
  },
  {
   "cell_type": "code",
   "execution_count": null,
   "id": "228c867e-eaaa-46b8-96fc-20ac51080beb",
   "metadata": {},
   "outputs": [],
   "source": [
    "# Load the model and make predictions.\n",
    "loaded_tree = pickle.load(open('tree.pickle', 'rb'))\n",
    "\n",
    "predictions = loaded_tree.predict(X_test)\n",
    "print(f\"Accuracy: {accuracy_score(y_test, predictions):.3f}\")"
   ]
  },
  {
   "cell_type": "code",
   "execution_count": null,
   "id": "8da8dd5b-498c-4fa6-87da-ae9d650eefd8",
   "metadata": {},
   "outputs": [],
   "source": []
  }
 ],
 "metadata": {
  "kernelspec": {
   "display_name": "Python 3 (ipykernel)",
   "language": "python",
   "name": "python3"
  },
  "language_info": {
   "codemirror_mode": {
    "name": "ipython",
    "version": 3
   },
   "file_extension": ".py",
   "mimetype": "text/x-python",
   "name": "python",
   "nbconvert_exporter": "python",
   "pygments_lexer": "ipython3",
   "version": "3.12.7"
  }
 },
 "nbformat": 4,
 "nbformat_minor": 5
}
