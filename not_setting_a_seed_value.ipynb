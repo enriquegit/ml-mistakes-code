{
 "cells": [
  {
   "cell_type": "code",
   "execution_count": null,
   "id": "6991525b",
   "metadata": {},
   "outputs": [],
   "source": [
    "from sklearn.model_selection import train_test_split\n",
    "from sklearn.datasets import load_wine\n",
    "\n",
    "# Load the wine dataset.\n",
    "data = load_wine()\n",
    "\n",
    "# Divide into train and test sets.\n",
    "X_train, X_test, y_train, y_test = train_test_split(data.data,\n",
    "                                                    data.target,\n",
    "                                                    test_size=0.5)\n",
    "\n",
    "# Print the first classes in the train set.\n",
    "# If you run this cell multiple times, you will get different results.\n",
    "print(y_train[0:10])"
   ]
  },
  {
   "cell_type": "code",
   "execution_count": null,
   "id": "f8a29e0f",
   "metadata": {},
   "outputs": [],
   "source": [
    "# Divide into train and test sets but this time setting the random seed.\n",
    "X_train, X_test, y_train, y_test = train_test_split(data.data,\n",
    "                                                    data.target,\n",
    "                                                    test_size = 0.5,\n",
    "                                                    random_state = 123)\n",
    "\n",
    "# Print the first classes in the train set.\n",
    "# You should get the same result even if you run this cell multiple times.\n",
    "print(y_train[0:10])"
   ]
  },
  {
   "cell_type": "code",
   "execution_count": null,
   "id": "97255eea-4d30-43a9-baa1-3aae420b19bf",
   "metadata": {},
   "outputs": [],
   "source": [
    "from sklearn.ensemble import RandomForestClassifier\n",
    "\n",
    "# Instantiate a RandomForestClassifier and set its random state.\n",
    "rf = RandomForestClassifier(n_estimators=50, random_state=123)"
   ]
  },
  {
   "cell_type": "code",
   "execution_count": null,
   "id": "06bad68b-6fcb-4e71-8716-b120999ae36b",
   "metadata": {},
   "outputs": [],
   "source": []
  }
 ],
 "metadata": {
  "kernelspec": {
   "display_name": "Python 3 (ipykernel)",
   "language": "python",
   "name": "python3"
  },
  "language_info": {
   "codemirror_mode": {
    "name": "ipython",
    "version": 3
   },
   "file_extension": ".py",
   "mimetype": "text/x-python",
   "name": "python",
   "nbconvert_exporter": "python",
   "pygments_lexer": "ipython3",
   "version": "3.12.7"
  }
 },
 "nbformat": 4,
 "nbformat_minor": 5
}
