{
 "cells": [
  {
   "cell_type": "code",
   "execution_count": null,
   "id": "a4300d03-ffc2-458d-a911-0a362e4ba966",
   "metadata": {},
   "outputs": [],
   "source": [
    "import pandas as pd\n",
    "import numpy as np\n",
    "from sklearn.ensemble import RandomForestClassifier\n",
    "from sklearn.metrics import accuracy_score\n",
    "\n",
    "df = pd.read_csv(\"data/wisdm/WISDM_ar_v1.1_transformed.csv\",\n",
    "                 na_values = \"?\")\n",
    "\n",
    "# Remove columns with missing values and 'UNIQUE_ID'.\n",
    "df = df.drop(columns=['UNIQUE_ID', 'YAVG', 'ZAVG'])\n",
    "\n",
    "# Print number of unique users.\n",
    "print(len(np.unique(df[\"user\"].values)))\n",
    "\n",
    "print(df.head())"
   ]
  },
  {
   "cell_type": "markdown",
   "id": "9488175d-d16a-4692-988d-70de28b6f8a5",
   "metadata": {},
   "source": [
    "### Perform traditional k-fold cross validation (mixed- model)."
   ]
  },
  {
   "cell_type": "code",
   "execution_count": null,
   "id": "d1d2fd8e-c885-4cb5-b126-fc05150cbf61",
   "metadata": {},
   "outputs": [],
   "source": [
    "from sklearn.model_selection import StratifiedKFold\n",
    "\n",
    "X = df.drop(columns=['class','user']).values\n",
    "y = df[\"class\"].values\n",
    "\n",
    "kf = StratifiedKFold(n_splits = 10)\n",
    "\n",
    "accuracies = []\n",
    "\n",
    "for i, (train_indx, test_indx) in enumerate(kf.split(X, y)):\n",
    "    \n",
    "    X_train = X[train_indx]\n",
    "    y_train = y[train_indx]\n",
    "    X_test = X[test_indx]\n",
    "    y_test = y[test_indx]\n",
    "\n",
    "    rf = RandomForestClassifier(random_state = 123)\n",
    "    rf.fit(X_train, y_train)\n",
    "    predictions = rf.predict(X_test)\n",
    "    accuracies.append(accuracy_score(y_test, predictions))\n",
    "\n",
    "print(np.mean(accuracies))"
   ]
  },
  {
   "cell_type": "markdown",
   "id": "468287a8-ff77-4f86-8650-5219f7a55571",
   "metadata": {},
   "source": [
    "### Perform leave-one-user-out validation (user-independent model)"
   ]
  },
  {
   "cell_type": "code",
   "execution_count": null,
   "id": "7e665557-0096-4841-b11e-6524729ae516",
   "metadata": {},
   "outputs": [],
   "source": [
    "from sklearn.model_selection import LeaveOneGroupOut\n",
    "\n",
    "users = df[\"user\"].values\n",
    "X = df.drop(columns=['class','user']).values\n",
    "y = df[\"class\"].values\n",
    "\n",
    "valscheme = LeaveOneGroupOut()\n",
    "\n",
    "accuracies = []\n",
    "\n",
    "for train_indx, test_indx in valscheme.split(X, y, groups = users):\n",
    "    X_train = X[train_indx]\n",
    "    y_train = y[train_indx]\n",
    "    X_test = X[test_indx]\n",
    "    y_test = y[test_indx]\n",
    "\n",
    "    rf = RandomForestClassifier(random_state = 123)\n",
    "    rf.fit(X_train, y_train)\n",
    "    predictions = rf.predict(X_test)\n",
    "    accuracies.append(accuracy_score(y_test, predictions))\n",
    "\n",
    "print(np.mean(accuracies))"
   ]
  },
  {
   "cell_type": "code",
   "execution_count": null,
   "id": "9d038d2a-a2ff-4deb-a6e4-2e426226e3cf",
   "metadata": {},
   "outputs": [],
   "source": []
  }
 ],
 "metadata": {
  "kernelspec": {
   "display_name": "Python [conda env:base] *",
   "language": "python",
   "name": "conda-base-py"
  },
  "language_info": {
   "codemirror_mode": {
    "name": "ipython",
    "version": 3
   },
   "file_extension": ".py",
   "mimetype": "text/x-python",
   "name": "python",
   "nbconvert_exporter": "python",
   "pygments_lexer": "ipython3",
   "version": "3.12.7"
  }
 },
 "nbformat": 4,
 "nbformat_minor": 5
}
