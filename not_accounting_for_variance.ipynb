{
 "cells": [
  {
   "cell_type": "code",
   "execution_count": null,
   "id": "e04b2d9c-0173-409b-9356-b75678e1dc4c",
   "metadata": {},
   "outputs": [],
   "source": [
    "import numpy as np\n",
    "from sklearn.datasets import load_digits\n",
    "data = load_digits()\n",
    "\n",
    "print(data.target[0])\n",
    "\n",
    "import matplotlib.pyplot as plt\n",
    "plt.gray()\n",
    "plt.matshow(data.images[0]) # Plot one of the digits.\n",
    "plt.savefig('digit.png', dpi=300, bbox_inches='tight')\n",
    "plt.show()"
   ]
  },
  {
   "cell_type": "code",
   "execution_count": null,
   "id": "430b04a0-696a-4511-a7cb-d403b530bbf4",
   "metadata": {},
   "outputs": [],
   "source": [
    "from sklearn.model_selection import train_test_split\n",
    "\n",
    "X_train, X_test, y_train, y_test = train_test_split(data.data,\n",
    "                                                    data.target,\n",
    "                                                    test_size = 0.5,\n",
    "                                                    random_state = 1234)"
   ]
  },
  {
   "cell_type": "code",
   "execution_count": null,
   "id": "390231cb-e5e8-4678-9bbe-ec5de527213c",
   "metadata": {},
   "outputs": [],
   "source": [
    "from sklearn.tree import DecisionTreeClassifier\n",
    "from sklearn.naive_bayes import GaussianNB\n",
    "from sklearn.metrics import accuracy_score\n",
    "\n",
    "tree = DecisionTreeClassifier(random_state=123)\n",
    "bayes = GaussianNB()\n",
    "\n",
    "tree.fit(X_train, y_train)\n",
    "bayes.fit(X_train, y_train)\n",
    "\n",
    "predictions_tree = tree.predict(X_test)\n",
    "predictions_bayes = bayes.predict(X_test)\n",
    "\n",
    "print(f\"Decision Tree accuracy: {accuracy_score(y_test, predictions_tree):.3f}\")\n",
    "print(f\"GaussianNB accuracy: {accuracy_score(y_test, predictions_bayes):.3f}\")"
   ]
  },
  {
   "cell_type": "markdown",
   "id": "2f01a92a-1ba4-4a02-bc1a-c7a7b06b6753",
   "metadata": {},
   "source": [
    "## Monte Carlo cross-validation"
   ]
  },
  {
   "cell_type": "code",
   "execution_count": null,
   "id": "93c99be5-9a3d-4012-ba35-29547e1483f1",
   "metadata": {},
   "outputs": [],
   "source": [
    "n = 500\n",
    "accuracy_tree = []\n",
    "accuracy_bayes = []\n",
    "\n",
    "for i in range(n):\n",
    "    X_train, X_test, y_train, y_test = train_test_split(data.data,\n",
    "                                                    data.target,\n",
    "                                                    test_size = 0.5,\n",
    "                                                    random_state = 123 + i)\n",
    "\n",
    "    tree = DecisionTreeClassifier(random_state=123)\n",
    "    bayes = GaussianNB()\n",
    "    \n",
    "    tree.fit(X_train, y_train)\n",
    "    bayes.fit(X_train, y_train)\n",
    "    \n",
    "    predictions_tree = tree.predict(X_test)\n",
    "    predictions_bayes = bayes.predict(X_test)\n",
    "\n",
    "    accuracy_tree.append(accuracy_score(y_test, predictions_tree))\n",
    "    accuracy_bayes.append(accuracy_score(y_test, predictions_bayes))"
   ]
  },
  {
   "cell_type": "code",
   "execution_count": null,
   "id": "da6524ea-b2f8-4ac3-9911-c60b19107dc2",
   "metadata": {},
   "outputs": [],
   "source": [
    "print(f\"Decision Tree accuracy: {np.mean(accuracy_tree):.3f}\")\n",
    "print(f\"GaussianNB accuracy: {np.mean(accuracy_bayes):.3f}\")"
   ]
  },
  {
   "cell_type": "code",
   "execution_count": null,
   "id": "e7b1db6c-3f92-4903-a944-08e572fd598d",
   "metadata": {},
   "outputs": [],
   "source": [
    "import matplotlib.pyplot as plt\n",
    "\n",
    "plt.hist(accuracy_tree, bins=15, alpha=0.5, label='Decision Tree')  # alpha sets transparency\n",
    "plt.hist(accuracy_bayes, bins=15, alpha=0.5, label='GaussianNB')\n",
    "plt.axvline(np.mean(accuracy_tree), color='blue', linestyle='dashed', linewidth=2)\n",
    "plt.axvline(np.mean(accuracy_bayes), color='orange', linestyle='dashed', linewidth=2)\n",
    "plt.xlabel('Value')\n",
    "plt.ylabel('Frequency')\n",
    "plt.title('Accuracy')\n",
    "plt.legend()\n",
    "plt.savefig('histogram_dt-bayes.png', dpi=300, bbox_inches='tight')\n",
    "plt.show()"
   ]
  },
  {
   "cell_type": "code",
   "execution_count": null,
   "id": "8cd7bdb5-5f18-4f22-a769-ae9e3ac6477d",
   "metadata": {},
   "outputs": [],
   "source": [
    "# Perform a Wilcoxon test.\n",
    "from scipy.stats import wilcoxon\n",
    "stat, p = wilcoxon(accuracy_tree, accuracy_bayes)\n",
    "print(f\"p-value: {p:.10f}\")"
   ]
  },
  {
   "cell_type": "code",
   "execution_count": null,
   "id": "b0fe596c-f6b4-4686-8563-445718aec105",
   "metadata": {},
   "outputs": [],
   "source": []
  }
 ],
 "metadata": {
  "kernelspec": {
   "display_name": "Python 3 (ipykernel)",
   "language": "python",
   "name": "python3"
  },
  "language_info": {
   "codemirror_mode": {
    "name": "ipython",
    "version": 3
   },
   "file_extension": ".py",
   "mimetype": "text/x-python",
   "name": "python",
   "nbconvert_exporter": "python",
   "pygments_lexer": "ipython3",
   "version": "3.12.7"
  }
 },
 "nbformat": 4,
 "nbformat_minor": 5
}
