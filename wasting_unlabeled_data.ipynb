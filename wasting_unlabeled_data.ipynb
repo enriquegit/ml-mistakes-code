{
 "cells": [
  {
   "cell_type": "code",
   "execution_count": null,
   "id": "e04b2d9c-0173-409b-9356-b75678e1dc4c",
   "metadata": {},
   "outputs": [],
   "source": [
    "import numpy as np\n",
    "from sklearn.utils import shuffle\n",
    "from sklearn.datasets import load_digits\n",
    "from sklearn.metrics import classification_report\n",
    "from sklearn.ensemble import RandomForestClassifier\n",
    "from sklearn.model_selection import train_test_split\n",
    "from sklearn.semi_supervised import SelfTrainingClassifier\n",
    "\n",
    "data = load_digits()\n",
    "\n",
    "X_train, X_test, y_train, y_test = train_test_split(data.data,\n",
    "                                                    data.target,\n",
    "                                                    test_size = 0.5,\n",
    "                                                    random_state = 1234)\n",
    "\n",
    "print(X_train.shape)"
   ]
  },
  {
   "cell_type": "code",
   "execution_count": null,
   "id": "08e8dd35-7c24-4021-ace4-8f191800508b",
   "metadata": {
    "scrolled": true
   },
   "outputs": [],
   "source": [
    "unlabeled = 798 # Number of unlabeled instances.\n",
    "\n",
    "# Set first n instances as unlabeled.\n",
    "# That is, the last instances will be labeled.\n",
    "y_train[:unlabeled] = -1\n",
    "\n",
    "# Check that the first n instances are unlabeled.\n",
    "print(y_train)"
   ]
  },
  {
   "cell_type": "code",
   "execution_count": null,
   "id": "390231cb-e5e8-4678-9bbe-ec5de527213c",
   "metadata": {},
   "outputs": [],
   "source": [
    "# Use a random forest as the underlying model.\n",
    "rf = RandomForestClassifier(n_estimators = 50, random_state = 123)\n",
    "\n",
    "ss_model = SelfTrainingClassifier(rf, threshold = 0.95, verbose = True)\n",
    "\n",
    "ss_model.fit(X_train, y_train)"
   ]
  },
  {
   "cell_type": "code",
   "execution_count": null,
   "id": "5e04f755-b2b1-4190-bdeb-09b61ac24e06",
   "metadata": {},
   "outputs": [],
   "source": [
    "y_pred = ss_model.predict(X_test)\n",
    "\n",
    "print(classification_report(y_test, y_pred))"
   ]
  },
  {
   "cell_type": "markdown",
   "id": "348ad2ee-ec60-48a9-9e34-b737ed71f646",
   "metadata": {},
   "source": [
    "### Not using unabeled instaces"
   ]
  },
  {
   "cell_type": "code",
   "execution_count": null,
   "id": "c484060e-f3e0-4c94-a6ed-732bd43b5239",
   "metadata": {
    "scrolled": true
   },
   "outputs": [],
   "source": [
    "labeled_count = X_train.shape[0] - unlabeled\n",
    "\n",
    "print(labeled_count)\n",
    "\n",
    "# Discard first n instances since we only want labeled instances.\n",
    "X_train_labeled = X_train[-labeled_count:].copy()\n",
    "y_train_labeled = y_train[-labeled_count:].copy()\n",
    "\n",
    "rf = RandomForestClassifier(n_estimators = 50, random_state = 123)\n",
    "\n",
    "rf.fit(X_train_labeled, y_train_labeled)\n",
    "\n",
    "y_pred = rf.predict(X_test)\n",
    "\n",
    "print(classification_report(y_test, y_pred))"
   ]
  },
  {
   "cell_type": "code",
   "execution_count": null,
   "id": "edb07a71-51f3-4331-a9e4-18c151d6c380",
   "metadata": {},
   "outputs": [],
   "source": []
  }
 ],
 "metadata": {
  "kernelspec": {
   "display_name": "Python [conda env:base] *",
   "language": "python",
   "name": "conda-base-py"
  },
  "language_info": {
   "codemirror_mode": {
    "name": "ipython",
    "version": 3
   },
   "file_extension": ".py",
   "mimetype": "text/x-python",
   "name": "python",
   "nbconvert_exporter": "python",
   "pygments_lexer": "ipython3",
   "version": "3.12.7"
  }
 },
 "nbformat": 4,
 "nbformat_minor": 5
}
