{
 "cells": [
  {
   "cell_type": "code",
   "execution_count": null,
   "id": "bcc0a682-6aa5-4cb8-857e-80a7e515e53d",
   "metadata": {
    "scrolled": true
   },
   "outputs": [],
   "source": [
    "!pip install ydata-profiling"
   ]
  },
  {
   "cell_type": "code",
   "execution_count": null,
   "id": "40b78c1e-888a-45e5-8fad-6688d624e594",
   "metadata": {},
   "outputs": [],
   "source": [
    "import numpy as np\n",
    "from sklearn.datasets import load_iris\n",
    "data = load_iris(as_frame = True).frame"
   ]
  },
  {
   "cell_type": "code",
   "execution_count": null,
   "id": "80a109b8-b9e6-45e8-8028-583e07255d2c",
   "metadata": {},
   "outputs": [],
   "source": [
    "from ydata_profiling import ProfileReport\n",
    "profile = ProfileReport(data, title=\"My Report\")\n",
    "profile"
   ]
  },
  {
   "cell_type": "code",
   "execution_count": null,
   "id": "5973edf9-6d02-4d5a-90fe-7be70d7138e4",
   "metadata": {},
   "outputs": [],
   "source": []
  }
 ],
 "metadata": {
  "kernelspec": {
   "display_name": "Python 3 (ipykernel)",
   "language": "python",
   "name": "python3"
  },
  "language_info": {
   "codemirror_mode": {
    "name": "ipython",
    "version": 3
   },
   "file_extension": ".py",
   "mimetype": "text/x-python",
   "name": "python",
   "nbconvert_exporter": "python",
   "pygments_lexer": "ipython3",
   "version": "3.12.7"
  }
 },
 "nbformat": 4,
 "nbformat_minor": 5
}
