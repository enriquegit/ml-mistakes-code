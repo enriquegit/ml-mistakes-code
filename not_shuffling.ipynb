{
 "cells": [
  {
   "cell_type": "code",
   "execution_count": null,
   "id": "2b668726-aefe-43c2-9ecb-12579de67011",
   "metadata": {},
   "outputs": [],
   "source": [
    "import pandas as pd\n",
    "df = pd.read_csv(\"data/wisdm/WISDM_ar_v1.1_transformed.csv\")\n",
    "df.head(10)"
   ]
  },
  {
   "cell_type": "code",
   "execution_count": null,
   "id": "b7b79933-7727-44f7-9ba9-9d717de26a09",
   "metadata": {},
   "outputs": [],
   "source": [
    "# Shuffle rows.\n",
    "shuffled_df = df.sample(frac = 1, random_state = 1234).reset_index(drop=True)\n",
    "shuffled_df.head(10)"
   ]
  },
  {
   "cell_type": "code",
   "execution_count": null,
   "id": "f32002a7-2766-418b-8802-167c01efdd98",
   "metadata": {},
   "outputs": [],
   "source": []
  }
 ],
 "metadata": {
  "kernelspec": {
   "display_name": "Python 3 (ipykernel)",
   "language": "python",
   "name": "python3"
  },
  "language_info": {
   "codemirror_mode": {
    "name": "ipython",
    "version": 3
   },
   "file_extension": ".py",
   "mimetype": "text/x-python",
   "name": "python",
   "nbconvert_exporter": "python",
   "pygments_lexer": "ipython3",
   "version": "3.12.7"
  }
 },
 "nbformat": 4,
 "nbformat_minor": 5
}
