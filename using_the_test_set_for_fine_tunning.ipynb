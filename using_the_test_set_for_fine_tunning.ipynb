{
 "cells": [
  {
   "cell_type": "code",
   "execution_count": null,
   "id": "0313186a-fd3b-4cc4-a451-7fe12c21fab3",
   "metadata": {},
   "outputs": [],
   "source": [
    "import pandas as pd\n",
    "from sklearn.neighbors import KNeighborsClassifier\n",
    "from sklearn.model_selection import train_test_split\n",
    "from sklearn.preprocessing import MinMaxScaler\n",
    "from sklearn.metrics import accuracy_score\n",
    "\n",
    "df = pd.read_csv(\"data/wisdm/WISDM_ar_v1.1_transformed.csv\",\n",
    "                 na_values = \"?\")\n",
    "\n",
    "# Drop columns with irrelevant information, missing values, or noisy values.\n",
    "df = df.drop(columns=['UNIQUE_ID', 'user','YAVG','ZAVG','XAVG','XPEAK','YPEAK','ZPEAK'])\n",
    "df.head()"
   ]
  },
  {
   "cell_type": "markdown",
   "id": "dd86065a-1f26-4911-8301-bd21bb0a0597",
   "metadata": {},
   "source": [
    "### Hyper-parameter tuning using the test set (not correct)"
   ]
  },
  {
   "cell_type": "code",
   "execution_count": null,
   "id": "1bba7cbf-2e43-48de-9902-7382b16b0801",
   "metadata": {},
   "outputs": [],
   "source": [
    "X = df.drop(columns=['class']).values\n",
    "y = df[\"class\"].values\n",
    "X_train, X_test, y_train, y_test = train_test_split(X, y,\n",
    "                                                    test_size = 0.5,\n",
    "                                                    random_state = 123)\n",
    "scaler = MinMaxScaler()\n",
    "X_train_scaled = scaler.fit_transform(X_train)\n",
    "X_test_scaled = scaler.transform(X_test)\n",
    "\n",
    "for i in range(5):\n",
    "    knn = KNeighborsClassifier(n_neighbors = i+1)\n",
    "    knn.fit(X_train_scaled, y_train)\n",
    "    y_pred = knn.predict(X_test_scaled)\n",
    "    accuracy = accuracy_score(y_test, y_pred)\n",
    "    print(f\"k={i+1}\" f\" accuracy {accuracy:.2f}\")\n"
   ]
  },
  {
   "cell_type": "markdown",
   "id": "4366a90d-13cb-4db0-97f4-8faa91e63760",
   "metadata": {},
   "source": [
    "### Hyper-parameter tuning using an independent validation set"
   ]
  },
  {
   "cell_type": "code",
   "execution_count": null,
   "id": "8080840d-acee-44f7-ada2-17d154bad2d8",
   "metadata": {},
   "outputs": [],
   "source": [
    "X_train, X_test, y_train, y_test = train_test_split(X, y,\n",
    "                                                    test_size = 0.5,\n",
    "                                                    random_state = 123)\n",
    "\n",
    "# Split the test set into two equal-size sets.\n",
    "X_test, X_val, y_test, y_val = train_test_split(X_test, y_test,\n",
    "                                                    test_size = 0.5,\n",
    "                                                    random_state = 123)\n",
    "\n",
    "scaler = MinMaxScaler()\n",
    "X_train_scaled = scaler.fit_transform(X_train)\n",
    "X_val_scaled = scaler.transform(X_val)\n",
    "X_test_scaled = scaler.transform(X_test)\n",
    "\n",
    "for i in range(5):\n",
    "    knn = KNeighborsClassifier(n_neighbors = i+1)\n",
    "    knn.fit(X_train_scaled, y_train)\n",
    "    y_pred = knn.predict(X_val_scaled)\n",
    "    accuracy = accuracy_score(y_val, y_pred)\n",
    "    print(f\"k={i+1}\" f\" accuracy {accuracy:.2f}\")\n"
   ]
  },
  {
   "cell_type": "code",
   "execution_count": null,
   "id": "1c62c16d-fdd5-4b78-a6f9-4e6ce69cd1b5",
   "metadata": {},
   "outputs": [],
   "source": [
    "# Use the best hyper-parameters to evaluate on the test set.\n",
    "best_k = 1\n",
    "knn = KNeighborsClassifier(n_neighbors = best_k)\n",
    "knn.fit(X_train_scaled, y_train)\n",
    "y_pred = knn.predict(X_test_scaled)\n",
    "accuracy = accuracy_score(y_test, y_pred)\n",
    "print(f\" test set accuracy {accuracy:.2f}\")"
   ]
  },
  {
   "cell_type": "code",
   "execution_count": null,
   "id": "89a0fb41-d8d7-42e1-8b9c-68e225b06dca",
   "metadata": {},
   "outputs": [],
   "source": []
  }
 ],
 "metadata": {
  "kernelspec": {
   "display_name": "Python [conda env:base] *",
   "language": "python",
   "name": "conda-base-py"
  },
  "language_info": {
   "codemirror_mode": {
    "name": "ipython",
    "version": 3
   },
   "file_extension": ".py",
   "mimetype": "text/x-python",
   "name": "python",
   "nbconvert_exporter": "python",
   "pygments_lexer": "ipython3",
   "version": "3.12.7"
  }
 },
 "nbformat": 4,
 "nbformat_minor": 5
}
