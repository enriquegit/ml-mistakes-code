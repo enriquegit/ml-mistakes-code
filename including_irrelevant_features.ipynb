{
 "cells": [
  {
   "cell_type": "code",
   "execution_count": null,
   "id": "c28403a6-7fd6-4756-a8fb-d3fb9e5dfca6",
   "metadata": {},
   "outputs": [],
   "source": [
    "import pandas as pd\n",
    "#pd.set_option(\"display.max_columns\", None)\n",
    "\n",
    "df = pd.read_csv(\"data/wisdm/WISDM_ar_v1.1_transformed.csv\",\n",
    "                 na_values = \"?\")\n",
    "\n",
    "# Mark values including a '?' such as '?0.01' as NaN.\n",
    "df['YAVG'] = pd.to_numeric(df['YAVG'], errors='coerce')\n",
    "df['ZAVG'] = pd.to_numeric(df['ZAVG'], errors='coerce')\n",
    "\n",
    "df.head()"
   ]
  },
  {
   "cell_type": "code",
   "execution_count": null,
   "id": "a73c5c71-4346-4a5c-8ab1-51adcbe342bc",
   "metadata": {},
   "outputs": [],
   "source": [
    "# Remove columns 'UNIQUE_ID' and 'user'\n",
    "df = df.drop(columns=['UNIQUE_ID', 'user'])\n",
    "df.head()"
   ]
  },
  {
   "cell_type": "code",
   "execution_count": null,
   "id": "bff4261c-848c-4d16-abb9-95644cf60eb7",
   "metadata": {},
   "outputs": [],
   "source": [
    "# Find features with low variance.\n",
    "from sklearn.feature_selection import VarianceThreshold\n",
    "X = df.drop('class', axis=1)\n",
    "feature_names = X.columns\n",
    "selector = VarianceThreshold(threshold = 0.0)\n",
    "X = selector.fit_transform(X)"
   ]
  },
  {
   "cell_type": "code",
   "execution_count": null,
   "id": "906f4992-f717-4b9c-90cf-c613d0407e60",
   "metadata": {},
   "outputs": [],
   "source": [
    "# Print names of removed features\n",
    "mask = selector.get_support()\n",
    "removed_features = feature_names[~mask]\n",
    "print(\"Removed features:\", list(removed_features))"
   ]
  },
  {
   "cell_type": "markdown",
   "id": "27e076a5-96a4-4ac2-9c4e-65bf64537373",
   "metadata": {},
   "source": [
    "# Generate an EDA report"
   ]
  },
  {
   "cell_type": "code",
   "execution_count": null,
   "id": "b070318b-2d1f-424a-9d4c-b2227378f879",
   "metadata": {
    "scrolled": true
   },
   "outputs": [],
   "source": [
    "#!pip install ydata-profiling\n",
    "from ydata_profiling import ProfileReport\n",
    "profile = ProfileReport(df, title=\"My Report\")\n",
    "profile"
   ]
  },
  {
   "cell_type": "code",
   "execution_count": null,
   "id": "06d659fa-1a32-43c3-975b-3ba27bcffef4",
   "metadata": {},
   "outputs": [],
   "source": []
  }
 ],
 "metadata": {
  "kernelspec": {
   "display_name": "Python [conda env:base] *",
   "language": "python",
   "name": "conda-base-py"
  },
  "language_info": {
   "codemirror_mode": {
    "name": "ipython",
    "version": 3
   },
   "file_extension": ".py",
   "mimetype": "text/x-python",
   "name": "python",
   "nbconvert_exporter": "python",
   "pygments_lexer": "ipython3",
   "version": "3.12.7"
  }
 },
 "nbformat": 4,
 "nbformat_minor": 5
}
